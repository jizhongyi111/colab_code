{
  "nbformat": 4,
  "nbformat_minor": 0,
  "metadata": {
    "colab": {
      "name": "Intro1.ipynb",
      "version": "0.3.2",
      "provenance": [],
      "collapsed_sections": []
    },
    "kernelspec": {
      "name": "python3",
      "display_name": "Python 3"
    },
    "accelerator": "GPU"
  },
  "cells": [
    {
      "metadata": {
        "id": "XYw8ZPOjVhEP",
        "colab_type": "text"
      },
      "cell_type": "markdown",
      "source": [
        "# 入门基础：\n",
        "\n",
        "*   GPU配置-->修改-->笔记本设置\n",
        "*   查看GPU显卡信息\n",
        "*   查看CPU信息\n",
        "*   测试TensorFlow代码\n",
        "*   安装PyTorch\n",
        "*   测试PyTorch GPU代码\n",
        "*   测试PyTorch CPU代码\n",
        "*   管理会话\n",
        "*   查看帮助\n"
      ]
    },
    {
      "metadata": {
        "id": "3-FrFW0CVOS9",
        "colab_type": "code",
        "colab": {
          "base_uri": "https://localhost:8080/",
          "height": 323
        },
        "outputId": "3097bb87-482b-46e0-d8c1-1494296c78e5"
      },
      "cell_type": "code",
      "source": [
        "!nvidia-smi"
      ],
      "execution_count": 2,
      "outputs": [
        {
          "output_type": "stream",
          "text": [
            "Wed Oct 31 20:06:25 2018       \n",
            "+-----------------------------------------------------------------------------+\n",
            "| NVIDIA-SMI 396.44                 Driver Version: 396.44                    |\n",
            "|-------------------------------+----------------------+----------------------+\n",
            "| GPU  Name        Persistence-M| Bus-Id        Disp.A | Volatile Uncorr. ECC |\n",
            "| Fan  Temp  Perf  Pwr:Usage/Cap|         Memory-Usage | GPU-Util  Compute M. |\n",
            "|===============================+======================+======================|\n",
            "|   0  Tesla K80           Off  | 00000000:00:04.0 Off |                    0 |\n",
            "| N/A   35C    P8    26W / 149W |      0MiB / 11441MiB |      0%      Default |\n",
            "+-------------------------------+----------------------+----------------------+\n",
            "                                                                               \n",
            "+-----------------------------------------------------------------------------+\n",
            "| Processes:                                                       GPU Memory |\n",
            "|  GPU       PID   Type   Process name                             Usage      |\n",
            "|=============================================================================|\n",
            "|  No running processes found                                                 |\n",
            "+-----------------------------------------------------------------------------+\n"
          ],
          "name": "stdout"
        }
      ]
    },
    {
      "metadata": {
        "id": "50QPXpq4VOd5",
        "colab_type": "code",
        "colab": {
          "base_uri": "https://localhost:8080/",
          "height": 1009
        },
        "outputId": "d137853b-315e-48c3-dd79-495b9d0bdc30"
      },
      "cell_type": "code",
      "source": [
        "!cat /proc/cpuinfo"
      ],
      "execution_count": 3,
      "outputs": [
        {
          "output_type": "stream",
          "text": [
            "processor\t: 0\n",
            "vendor_id\t: GenuineIntel\n",
            "cpu family\t: 6\n",
            "model\t\t: 63\n",
            "model name\t: Intel(R) Xeon(R) CPU @ 2.30GHz\n",
            "stepping\t: 0\n",
            "microcode\t: 0x1\n",
            "cpu MHz\t\t: 2300.000\n",
            "cache size\t: 46080 KB\n",
            "physical id\t: 0\n",
            "siblings\t: 2\n",
            "core id\t\t: 0\n",
            "cpu cores\t: 1\n",
            "apicid\t\t: 0\n",
            "initial apicid\t: 0\n",
            "fpu\t\t: yes\n",
            "fpu_exception\t: yes\n",
            "cpuid level\t: 13\n",
            "wp\t\t: yes\n",
            "flags\t\t: fpu vme de pse tsc msr pae mce cx8 apic sep mtrr pge mca cmov pat pse36 clflush mmx fxsr sse sse2 ss ht syscall nx pdpe1gb rdtscp lm constant_tsc rep_good nopl xtopology nonstop_tsc cpuid pni pclmulqdq ssse3 fma cx16 sse4_1 sse4_2 x2apic movbe popcnt aes xsave avx f16c rdrand hypervisor lahf_lm abm pti ssbd ibrs ibpb stibp fsgsbase tsc_adjust bmi1 avx2 smep bmi2 erms xsaveopt arat arch_capabilities\n",
            "bugs\t\t: cpu_meltdown spectre_v1 spectre_v2 spec_store_bypass l1tf\n",
            "bogomips\t: 4600.00\n",
            "clflush size\t: 64\n",
            "cache_alignment\t: 64\n",
            "address sizes\t: 46 bits physical, 48 bits virtual\n",
            "power management:\n",
            "\n",
            "processor\t: 1\n",
            "vendor_id\t: GenuineIntel\n",
            "cpu family\t: 6\n",
            "model\t\t: 63\n",
            "model name\t: Intel(R) Xeon(R) CPU @ 2.30GHz\n",
            "stepping\t: 0\n",
            "microcode\t: 0x1\n",
            "cpu MHz\t\t: 2300.000\n",
            "cache size\t: 46080 KB\n",
            "physical id\t: 0\n",
            "siblings\t: 2\n",
            "core id\t\t: 0\n",
            "cpu cores\t: 1\n",
            "apicid\t\t: 1\n",
            "initial apicid\t: 1\n",
            "fpu\t\t: yes\n",
            "fpu_exception\t: yes\n",
            "cpuid level\t: 13\n",
            "wp\t\t: yes\n",
            "flags\t\t: fpu vme de pse tsc msr pae mce cx8 apic sep mtrr pge mca cmov pat pse36 clflush mmx fxsr sse sse2 ss ht syscall nx pdpe1gb rdtscp lm constant_tsc rep_good nopl xtopology nonstop_tsc cpuid pni pclmulqdq ssse3 fma cx16 sse4_1 sse4_2 x2apic movbe popcnt aes xsave avx f16c rdrand hypervisor lahf_lm abm pti ssbd ibrs ibpb stibp fsgsbase tsc_adjust bmi1 avx2 smep bmi2 erms xsaveopt arat arch_capabilities\n",
            "bugs\t\t: cpu_meltdown spectre_v1 spectre_v2 spec_store_bypass l1tf\n",
            "bogomips\t: 4600.00\n",
            "clflush size\t: 64\n",
            "cache_alignment\t: 64\n",
            "address sizes\t: 46 bits physical, 48 bits virtual\n",
            "power management:\n",
            "\n"
          ],
          "name": "stdout"
        }
      ]
    },
    {
      "metadata": {
        "id": "F9m1jwWwBJ0W",
        "colab_type": "code",
        "outputId": "64b3f5f9-699b-4151-da25-017b4bda2f8b",
        "colab": {
          "base_uri": "https://localhost:8080/",
          "height": 53
        }
      },
      "cell_type": "code",
      "source": [
        "import tensorflow as tf\n",
        "\n",
        "print(tf.__version__)\n",
        "\n",
        "m1 = tf.constant([[2, 2]])\n",
        "m2 = tf.constant([[3],\n",
        "                  [3]])\n",
        "\n",
        "dot_operation = tf.matmul(m1, m2)\n",
        "\n",
        "sess = tf.Session()\n",
        "result = sess.run(dot_operation)\n",
        "print(result)\n",
        "sess.close()\n",
        "\n"
      ],
      "execution_count": 4,
      "outputs": [
        {
          "output_type": "stream",
          "text": [
            "1.12.0-rc2\n",
            "[[12]]\n"
          ],
          "name": "stdout"
        }
      ]
    },
    {
      "metadata": {
        "id": "JtCm8xFfBX8_",
        "colab_type": "code",
        "colab": {
          "base_uri": "https://localhost:8080/",
          "height": 300
        },
        "outputId": "d81dc011-fa6a-4c9e-cf50-12b2c863a78a"
      },
      "cell_type": "code",
      "source": [
        "import torch"
      ],
      "execution_count": 5,
      "outputs": [
        {
          "output_type": "error",
          "ename": "ModuleNotFoundError",
          "evalue": "ignored",
          "traceback": [
            "\u001b[0;31m---------------------------------------------------------------------------\u001b[0m",
            "\u001b[0;31mModuleNotFoundError\u001b[0m                       Traceback (most recent call last)",
            "\u001b[0;32m<ipython-input-5-eb42ca6e4af3>\u001b[0m in \u001b[0;36m<module>\u001b[0;34m()\u001b[0m\n\u001b[0;32m----> 1\u001b[0;31m \u001b[0;32mimport\u001b[0m \u001b[0mtorch\u001b[0m\u001b[0;34m\u001b[0m\u001b[0m\n\u001b[0m",
            "\u001b[0;31mModuleNotFoundError\u001b[0m: No module named 'torch'",
            "",
            "\u001b[0;31m---------------------------------------------------------------------------\u001b[0;32m\nNOTE: If your import is failing due to a missing package, you can\nmanually install dependencies using either !pip or !apt.\n\nTo install torch, click the button below.\n\u001b[0;31m---------------------------------------------------------------------------\u001b[0m\n"
          ]
        }
      ]
    },
    {
      "metadata": {
        "id": "CjN2CV0yvWTX",
        "colab_type": "code",
        "colab": {
          "base_uri": "https://localhost:8080/",
          "height": 55
        },
        "outputId": "e01603b6-5f3a-4a1f-d360-5aa4d7d83cb5"
      },
      "cell_type": "code",
      "source": [
        "# http://pytorch.org/\n",
        "from os.path import exists\n",
        "from wheel.pep425tags import get_abbr_impl, get_impl_ver, get_abi_tag\n",
        "platform = '{}{}-{}'.format(get_abbr_impl(), get_impl_ver(), get_abi_tag())\n",
        "cuda_output = !ldconfig -p|grep cudart.so|sed -e 's/.*\\.\\([0-9]*\\)\\.\\([0-9]*\\)$/cu\\1\\2/'\n",
        "accelerator = cuda_output[0] if exists('/dev/nvidia0') else 'cpu'\n",
        "\n",
        "!pip install -q http://download.pytorch.org/whl/{accelerator}/torch-0.4.1-{platform}-linux_x86_64.whl torchvision\n",
        "import torch"
      ],
      "execution_count": 6,
      "outputs": [
        {
          "output_type": "stream",
          "text": [
            "tcmalloc: large alloc 1073750016 bytes == 0x584d8000 @  0x7fa46af0a2a4 0x594e17 0x626104 0x51190a 0x4f5277 0x510c78 0x5119bd 0x4f5277 0x4f3338 0x510fb0 0x5119bd 0x4f5277 0x4f3338 0x510fb0 0x5119bd 0x4f5277 0x4f3338 0x510fb0 0x5119bd 0x4f6070 0x510c78 0x5119bd 0x4f5277 0x4f3338 0x510fb0 0x5119bd 0x4f6070 0x4f3338 0x510fb0 0x5119bd 0x4f6070\n"
          ],
          "name": "stdout"
        }
      ]
    },
    {
      "metadata": {
        "id": "ALYeJndZH3GL",
        "colab_type": "code",
        "colab": {}
      },
      "cell_type": "code",
      "source": [
        "# http://pytorch.org/\n",
        "from os.path import exists\n",
        "from wheel.pep425tags import get_abbr_impl, get_impl_ver, get_abi_tag\n",
        "platform = '{}{}-{}'.format(get_abbr_impl(), get_impl_ver(), get_abi_tag())\n",
        "cuda_output = !ldconfig -p|grep cudart.so|sed -e 's/.*\\.\\([0-9]*\\)\\.\\([0-9]*\\)$/cu\\1\\2/'\n",
        "accelerator = cuda_output[0] if exists('/dev/nvidia0') else 'cpu'\n",
        "\n",
        "!pip install -q http://download.pytorch.org/whl/{accelerator}/torch-0.4.1-{platform}-linux_x86_64.whl torchvision\n",
        "import torch"
      ],
      "execution_count": 0,
      "outputs": []
    },
    {
      "metadata": {
        "id": "PLsz9pVLBa5I",
        "colab_type": "code",
        "outputId": "3d76eeb0-d63b-42b7-d6e1-dc05e5a53d7b",
        "colab": {
          "base_uri": "https://localhost:8080/",
          "height": 35
        }
      },
      "cell_type": "code",
      "source": [
        "print(torch.__version__)"
      ],
      "execution_count": 7,
      "outputs": [
        {
          "output_type": "stream",
          "text": [
            "0.4.1\n"
          ],
          "name": "stdout"
        }
      ]
    },
    {
      "metadata": {
        "id": "Kf4l6pwqBydc",
        "colab_type": "code",
        "colab": {
          "base_uri": "https://localhost:8080/",
          "height": 1025
        },
        "outputId": "d3bd585a-eda0-4cab-8562-5dbc66409112"
      },
      "cell_type": "code",
      "source": [
        "import torch\n",
        "import torch.nn as nn\n",
        "import torch.utils.data as Data\n",
        "import torchvision\n",
        "from time import time\n",
        "\n",
        "# torch.manual_seed(1)\n",
        "\n",
        "EPOCH = 1\n",
        "BATCH_SIZE = 50\n",
        "LR = 0.001\n",
        "DOWNLOAD_MNIST = True\n",
        "\n",
        "\n",
        "cuda_use = 1\n",
        "\n",
        "train_data = torchvision.datasets.MNIST(root='./mnist/', train=True, transform=torchvision.transforms.ToTensor(), download=DOWNLOAD_MNIST,)\n",
        "train_loader = Data.DataLoader(dataset=train_data, batch_size=BATCH_SIZE, shuffle=True)\n",
        "\n",
        "test_data = torchvision.datasets.MNIST(root='./mnist/', train=False)\n",
        "\n",
        "# !!!!!!!! Change in here !!!!!!!!! #\n",
        "\n",
        "if cuda_use:\n",
        "    test_x = torch.unsqueeze(test_data.test_data, dim=1).type(torch.FloatTensor)[:2000].cuda()/255.   # Tensor on GPU\n",
        "    test_y = test_data.test_labels[:2000].cuda()\n",
        "else:\n",
        "    test_x = torch.unsqueeze(test_data.test_data, dim=1).type(torch.FloatTensor)[:2000]/255.   # Tensor on CPU\n",
        "    test_y = test_data.test_labels[:2000]\n",
        "\n",
        "class CNN(nn.Module):\n",
        "    def __init__(self):\n",
        "        super(CNN, self).__init__()\n",
        "        self.conv1 = nn.Sequential(nn.Conv2d(in_channels=1, out_channels=16, kernel_size=5, stride=1, padding=2,),\n",
        "                                   nn.ReLU(), nn.MaxPool2d(kernel_size=2),)\n",
        "        self.conv2 = nn.Sequential(nn.Conv2d(16, 32, 5, 1, 2), nn.ReLU(), nn.MaxPool2d(2),)\n",
        "        self.out = nn.Linear(32 * 7 * 7, 10)\n",
        "\n",
        "    def forward(self, x):\n",
        "        x = self.conv1(x)\n",
        "        x = self.conv2(x)\n",
        "        x = x.view(x.size(0), -1)\n",
        "        output = self.out(x)\n",
        "        return output\n",
        "\n",
        "cnn = CNN()\n",
        "\n",
        "# !!!!!!!! Change in here !!!!!!!!! #\n",
        "if cuda_use:\n",
        "    cnn.cuda()      # Moves all model parameters and buffers to the GPU.\n",
        "\n",
        "optimizer = torch.optim.Adam(cnn.parameters(), lr=LR)\n",
        "loss_func = nn.CrossEntropyLoss()\n",
        "\n",
        "\n",
        "for epoch in range(EPOCH):\n",
        "    for step, (b_x, b_y) in enumerate(train_loader):\n",
        "        start = time()\n",
        "        # !!!!!!!! Change in here !!!!!!!!! #\n",
        "        if cuda_use:\n",
        "            b_x = b_x.cuda()    # Tensor on GPU\n",
        "            b_y = b_y.cuda()    # Tensor on GPU\n",
        "\n",
        "        output = cnn(b_x)\n",
        "        loss = loss_func(output, b_y)\n",
        "        optimizer.zero_grad()\n",
        "        loss.backward()\n",
        "        optimizer.step()\n",
        "\n",
        "        if step % 50 == 0:\n",
        "            end = time()\n",
        "            print('Run Tims is %.4f!' % (end-start))\n",
        "            test_output = cnn(test_x)\n",
        "\n",
        "            # !!!!!!!! Change in here !!!!!!!!! #\n",
        "            if cuda_use:\n",
        "                pred_y = torch.max(test_output, 1)[1].cuda().data.squeeze()  # move the computation in GPU\n",
        "            else:\n",
        "                pred_y = torch.max(test_output, 1)[1].data.squeeze()\n",
        "\n",
        "            accuracy = torch.sum(pred_y == test_y).type(torch.FloatTensor) / test_y.size(0)\n",
        "            print('Epoch: ', epoch, '| train loss: %.4f' % loss.data.cpu().numpy(), '| test accuracy: %.3f' % accuracy)\n",
        "\n",
        "\n",
        "test_output = cnn(test_x[:10])\n",
        "\n",
        "# !!!!!!!! Change in here !!!!!!!!! #\n",
        "if cuda_use:\n",
        "    pred_y = torch.max(test_output, 1)[1].cuda().data.squeeze() # move the computation in GPU\n",
        "else:\n",
        "    pred_y = torch.max(test_output, 1)[1].data.squeeze()\n",
        "\n",
        "print(pred_y, 'prediction number')\n",
        "print(test_y[:10], 'real number')"
      ],
      "execution_count": 8,
      "outputs": [
        {
          "output_type": "stream",
          "text": [
            "Downloading http://yann.lecun.com/exdb/mnist/train-images-idx3-ubyte.gz\n",
            "Downloading http://yann.lecun.com/exdb/mnist/train-labels-idx1-ubyte.gz\n",
            "Downloading http://yann.lecun.com/exdb/mnist/t10k-images-idx3-ubyte.gz\n",
            "Downloading http://yann.lecun.com/exdb/mnist/t10k-labels-idx1-ubyte.gz\n",
            "Processing...\n",
            "Done!\n",
            "Run Tims is 0.0116!\n",
            "Epoch:  0 | train loss: 2.2987 | test accuracy: 0.148\n",
            "Run Tims is 0.0050!\n",
            "Epoch:  0 | train loss: 0.7341 | test accuracy: 0.817\n",
            "Run Tims is 0.0046!\n",
            "Epoch:  0 | train loss: 0.3100 | test accuracy: 0.887\n",
            "Run Tims is 0.0049!\n",
            "Epoch:  0 | train loss: 0.1270 | test accuracy: 0.920\n",
            "Run Tims is 0.0047!\n",
            "Epoch:  0 | train loss: 0.1157 | test accuracy: 0.924\n",
            "Run Tims is 0.0047!\n",
            "Epoch:  0 | train loss: 0.1193 | test accuracy: 0.945\n",
            "Run Tims is 0.0047!\n",
            "Epoch:  0 | train loss: 0.1508 | test accuracy: 0.954\n",
            "Run Tims is 0.0047!\n",
            "Epoch:  0 | train loss: 0.1611 | test accuracy: 0.952\n",
            "Run Tims is 0.0046!\n",
            "Epoch:  0 | train loss: 0.4166 | test accuracy: 0.957\n",
            "Run Tims is 0.0047!\n",
            "Epoch:  0 | train loss: 0.2340 | test accuracy: 0.965\n",
            "Run Tims is 0.0048!\n",
            "Epoch:  0 | train loss: 0.0953 | test accuracy: 0.969\n",
            "Run Tims is 0.0051!\n",
            "Epoch:  0 | train loss: 0.1016 | test accuracy: 0.972\n",
            "Run Tims is 0.0048!\n",
            "Epoch:  0 | train loss: 0.0756 | test accuracy: 0.970\n",
            "Run Tims is 0.0047!\n",
            "Epoch:  0 | train loss: 0.0519 | test accuracy: 0.970\n",
            "Run Tims is 0.0046!\n",
            "Epoch:  0 | train loss: 0.1112 | test accuracy: 0.976\n",
            "Run Tims is 0.0047!\n",
            "Epoch:  0 | train loss: 0.2013 | test accuracy: 0.969\n",
            "Run Tims is 0.0052!\n",
            "Epoch:  0 | train loss: 0.0592 | test accuracy: 0.975\n",
            "Run Tims is 0.0048!\n",
            "Epoch:  0 | train loss: 0.0293 | test accuracy: 0.967\n",
            "Run Tims is 0.0051!\n",
            "Epoch:  0 | train loss: 0.0105 | test accuracy: 0.973\n",
            "Run Tims is 0.0051!\n",
            "Epoch:  0 | train loss: 0.0538 | test accuracy: 0.974\n",
            "Run Tims is 0.0047!\n",
            "Epoch:  0 | train loss: 0.1009 | test accuracy: 0.978\n",
            "Run Tims is 0.0048!\n",
            "Epoch:  0 | train loss: 0.0387 | test accuracy: 0.979\n",
            "Run Tims is 0.0047!\n",
            "Epoch:  0 | train loss: 0.0458 | test accuracy: 0.975\n",
            "Run Tims is 0.0048!\n",
            "Epoch:  0 | train loss: 0.0398 | test accuracy: 0.979\n",
            "tensor([7, 2, 1, 0, 4, 1, 4, 9, 5, 9], device='cuda:0') prediction number\n",
            "tensor([7, 2, 1, 0, 4, 1, 4, 9, 5, 9], device='cuda:0') real number\n"
          ],
          "name": "stdout"
        }
      ]
    },
    {
      "metadata": {
        "id": "KgHphjeAX6K0",
        "colab_type": "code",
        "colab": {
          "base_uri": "https://localhost:8080/",
          "height": 917
        },
        "outputId": "0eb04210-316c-45f6-81f1-b45475c0e65d"
      },
      "cell_type": "code",
      "source": [
        "import torch\n",
        "import torch.nn as nn\n",
        "import torch.utils.data as Data\n",
        "import torchvision\n",
        "from time import time\n",
        "\n",
        "# torch.manual_seed(1)\n",
        "\n",
        "EPOCH = 1\n",
        "BATCH_SIZE = 50\n",
        "LR = 0.001\n",
        "DOWNLOAD_MNIST = True\n",
        "\n",
        "\n",
        "cuda_use = 0\n",
        "\n",
        "train_data = torchvision.datasets.MNIST(root='./mnist/', train=True, transform=torchvision.transforms.ToTensor(), download=DOWNLOAD_MNIST,)\n",
        "train_loader = Data.DataLoader(dataset=train_data, batch_size=BATCH_SIZE, shuffle=True)\n",
        "\n",
        "test_data = torchvision.datasets.MNIST(root='./mnist/', train=False)\n",
        "\n",
        "# !!!!!!!! Change in here !!!!!!!!! #\n",
        "\n",
        "if cuda_use:\n",
        "    test_x = torch.unsqueeze(test_data.test_data, dim=1).type(torch.FloatTensor)[:2000].cuda()/255.   # Tensor on GPU\n",
        "    test_y = test_data.test_labels[:2000].cuda()\n",
        "else:\n",
        "    test_x = torch.unsqueeze(test_data.test_data, dim=1).type(torch.FloatTensor)[:2000]/255.   # Tensor on CPU\n",
        "    test_y = test_data.test_labels[:2000]\n",
        "\n",
        "class CNN(nn.Module):\n",
        "    def __init__(self):\n",
        "        super(CNN, self).__init__()\n",
        "        self.conv1 = nn.Sequential(nn.Conv2d(in_channels=1, out_channels=16, kernel_size=5, stride=1, padding=2,),\n",
        "                                   nn.ReLU(), nn.MaxPool2d(kernel_size=2),)\n",
        "        self.conv2 = nn.Sequential(nn.Conv2d(16, 32, 5, 1, 2), nn.ReLU(), nn.MaxPool2d(2),)\n",
        "        self.out = nn.Linear(32 * 7 * 7, 10)\n",
        "\n",
        "    def forward(self, x):\n",
        "        x = self.conv1(x)\n",
        "        x = self.conv2(x)\n",
        "        x = x.view(x.size(0), -1)\n",
        "        output = self.out(x)\n",
        "        return output\n",
        "\n",
        "cnn = CNN()\n",
        "\n",
        "# !!!!!!!! Change in here !!!!!!!!! #\n",
        "if cuda_use:\n",
        "    cnn.cuda()      # Moves all model parameters and buffers to the GPU.\n",
        "\n",
        "optimizer = torch.optim.Adam(cnn.parameters(), lr=LR)\n",
        "loss_func = nn.CrossEntropyLoss()\n",
        "\n",
        "\n",
        "for epoch in range(EPOCH):\n",
        "    for step, (b_x, b_y) in enumerate(train_loader):\n",
        "        start = time()\n",
        "        # !!!!!!!! Change in here !!!!!!!!! #\n",
        "        if cuda_use:\n",
        "            b_x = b_x.cuda()    # Tensor on GPU\n",
        "            b_y = b_y.cuda()    # Tensor on GPU\n",
        "\n",
        "        output = cnn(b_x)\n",
        "        loss = loss_func(output, b_y)\n",
        "        optimizer.zero_grad()\n",
        "        loss.backward()\n",
        "        optimizer.step()\n",
        "\n",
        "        if step % 50 == 0:\n",
        "            end = time()\n",
        "            print('Run Tims is %.4f!' % (end-start))\n",
        "            test_output = cnn(test_x)\n",
        "\n",
        "            # !!!!!!!! Change in here !!!!!!!!! #\n",
        "            if cuda_use:\n",
        "                pred_y = torch.max(test_output, 1)[1].cuda().data.squeeze()  # move the computation in GPU\n",
        "            else:\n",
        "                pred_y = torch.max(test_output, 1)[1].data.squeeze()\n",
        "\n",
        "            accuracy = torch.sum(pred_y == test_y).type(torch.FloatTensor) / test_y.size(0)\n",
        "            print('Epoch: ', epoch, '| train loss: %.4f' % loss.data.cpu().numpy(), '| test accuracy: %.3f' % accuracy)\n",
        "\n",
        "\n",
        "test_output = cnn(test_x[:10])\n",
        "\n",
        "# !!!!!!!! Change in here !!!!!!!!! #\n",
        "if cuda_use:\n",
        "    pred_y = torch.max(test_output, 1)[1].cuda().data.squeeze() # move the computation in GPU\n",
        "else:\n",
        "    pred_y = torch.max(test_output, 1)[1].data.squeeze()\n",
        "\n",
        "print(pred_y, 'prediction number')\n",
        "print(test_y[:10], 'real number')"
      ],
      "execution_count": 9,
      "outputs": [
        {
          "output_type": "stream",
          "text": [
            "Run Tims is 0.0624!\n",
            "Epoch:  0 | train loss: 2.2879 | test accuracy: 0.169\n",
            "Run Tims is 0.0588!\n",
            "Epoch:  0 | train loss: 0.3518 | test accuracy: 0.809\n",
            "Run Tims is 0.0630!\n",
            "Epoch:  0 | train loss: 0.3422 | test accuracy: 0.896\n",
            "Run Tims is 0.0637!\n",
            "Epoch:  0 | train loss: 0.7440 | test accuracy: 0.919\n",
            "Run Tims is 0.0631!\n",
            "Epoch:  0 | train loss: 0.1632 | test accuracy: 0.932\n",
            "Run Tims is 0.0640!\n",
            "Epoch:  0 | train loss: 0.1188 | test accuracy: 0.950\n",
            "Run Tims is 0.0631!\n",
            "Epoch:  0 | train loss: 0.1902 | test accuracy: 0.952\n",
            "Run Tims is 0.0640!\n",
            "Epoch:  0 | train loss: 0.1145 | test accuracy: 0.952\n",
            "Run Tims is 0.0633!\n",
            "Epoch:  0 | train loss: 0.0727 | test accuracy: 0.961\n",
            "Run Tims is 0.0639!\n",
            "Epoch:  0 | train loss: 0.0924 | test accuracy: 0.961\n",
            "Run Tims is 0.0635!\n",
            "Epoch:  0 | train loss: 0.0556 | test accuracy: 0.965\n",
            "Run Tims is 0.0641!\n",
            "Epoch:  0 | train loss: 0.0193 | test accuracy: 0.970\n",
            "Run Tims is 0.0637!\n",
            "Epoch:  0 | train loss: 0.1246 | test accuracy: 0.965\n",
            "Run Tims is 0.0632!\n",
            "Epoch:  0 | train loss: 0.0732 | test accuracy: 0.974\n",
            "Run Tims is 0.0638!\n",
            "Epoch:  0 | train loss: 0.1595 | test accuracy: 0.975\n",
            "Run Tims is 0.0635!\n",
            "Epoch:  0 | train loss: 0.0620 | test accuracy: 0.970\n",
            "Run Tims is 0.0630!\n",
            "Epoch:  0 | train loss: 0.0622 | test accuracy: 0.976\n",
            "Run Tims is 0.0636!\n",
            "Epoch:  0 | train loss: 0.0684 | test accuracy: 0.975\n",
            "Run Tims is 0.0633!\n",
            "Epoch:  0 | train loss: 0.0625 | test accuracy: 0.975\n",
            "Run Tims is 0.0640!\n",
            "Epoch:  0 | train loss: 0.0750 | test accuracy: 0.974\n",
            "Run Tims is 0.0630!\n",
            "Epoch:  0 | train loss: 0.0807 | test accuracy: 0.974\n",
            "Run Tims is 0.0630!\n",
            "Epoch:  0 | train loss: 0.1142 | test accuracy: 0.979\n",
            "Run Tims is 0.0631!\n",
            "Epoch:  0 | train loss: 0.0310 | test accuracy: 0.975\n",
            "Run Tims is 0.0645!\n",
            "Epoch:  0 | train loss: 0.0961 | test accuracy: 0.978\n",
            "tensor([7, 2, 1, 0, 4, 1, 4, 9, 5, 9]) prediction number\n",
            "tensor([7, 2, 1, 0, 4, 1, 4, 9, 5, 9]) real number\n"
          ],
          "name": "stdout"
        }
      ]
    },
    {
      "metadata": {
        "id": "aqe0tWR0vwvc",
        "colab_type": "code",
        "colab": {}
      },
      "cell_type": "code",
      "source": [
        ""
      ],
      "execution_count": 0,
      "outputs": []
    }
  ]
}